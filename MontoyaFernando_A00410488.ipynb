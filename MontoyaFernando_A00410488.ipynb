{
  "nbformat": 4,
  "nbformat_minor": 0,
  "metadata": {
    "colab": {
      "provenance": [],
      "authorship_tag": "ABX9TyMVUx8EUh2tRy0PKnn3cgID",
      "include_colab_link": true
    },
    "kernelspec": {
      "name": "python3",
      "display_name": "Python 3"
    },
    "language_info": {
      "name": "python"
    }
  },
  "cells": [
    {
      "cell_type": "markdown",
      "metadata": {
        "id": "view-in-github",
        "colab_type": "text"
      },
      "source": [
        "<a href=\"https://colab.research.google.com/github/Fer-mntya/MatAplicadas/blob/main/MontoyaFernando_A00410488.ipynb\" target=\"_parent\"><img src=\"https://colab.research.google.com/assets/colab-badge.svg\" alt=\"Open In Colab\"/></a>"
      ]
    },
    {
      "cell_type": "markdown",
      "source": [
        "#Autobiografía\n",
        "Soy Juan Fernando Montoya Botina. Nací en Cali y siempre he vivido aquí. Estudio **Ingeniería Bioquímica** ya que me apasionan la investigación, los nuevos descubrimientos y las ciencias prácticas. Como hobby principal tengo la música, sé tocar guitarra acústica y eléctrica, bajo eléctrico, y estoy aprendiendo piano. Me gusta todo tipo de música, aunque mucho más en inglés, como el Rock Pop o el Nu Metal. También escribo, de todo realmente, canciones, poesía, cuentos cortos y ahora estoy intentando escribir una novela. Además, me gusta un poco el dibujo, inspirado por el arte de la banda *Radiohead*.\n",
        "\n",
        "<img src=\"https://encrypted-tbn0.gstatic.com/images?q=tbn:ANd9GcSuEAUwwcPzoXJLKO21kvMo0oP4nFhkhSCQZA&s\" width=\"200\" height=\"200\" align=\"center\">\n",
        "\n",
        "\n",
        "#Canciones favoritas\n",
        "1. Plug In Baby\n",
        ">* *Muse*\n",
        ">>* *Matt Bellamy*\n",
        "\n",
        "2. Merry Christmas, Please Don't Call\n",
        ">* *Bleachers*\n",
        ">>* *Jack Antonoff*\n",
        "\n",
        "3. Digital bath\n",
        ">* *Deftones*\n",
        ">>* *Chino Moreno & Chi Cheng*\n",
        "\n",
        "4. Vida ingrata\n",
        ">* *El Cuarteto de Nos*\n",
        ">>* *Roberto Musso*\n",
        "\n",
        "5. Exit Music (For A Film)\n",
        ">* *Radiohead*\n",
        ">>* *Thom Yorke & Jonny Greenwood*\n",
        "\n",
        "\n",
        "#Materias favoritas\n",
        "|Materia         |¿Por qué?                            |\n",
        "|----------------|-------------------------------------|\n",
        "|Aplicadas       |Me interesan los lenguajes de código |\n",
        "|Lógica          |Me fue muy bien en el semestre pasado|\n",
        "|Química orgánica|Me encanta esta parte de la química  |"
      ],
      "metadata": {
        "id": "flTWaBGKI_r3"
      }
    }
  ]
}
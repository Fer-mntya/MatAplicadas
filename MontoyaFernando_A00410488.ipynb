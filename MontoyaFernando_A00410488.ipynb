{
  "nbformat": 4,
  "nbformat_minor": 0,
  "metadata": {
    "colab": {
      "provenance": [],
      "authorship_tag": "ABX9TyMKjbEtTwF3Z9cs9wRL0Kp5",
      "include_colab_link": true
    },
    "kernelspec": {
      "name": "python3",
      "display_name": "Python 3"
    },
    "language_info": {
      "name": "python"
    }
  },
  "cells": [
    {
      "cell_type": "markdown",
      "metadata": {
        "id": "view-in-github",
        "colab_type": "text"
      },
      "source": [
        "<a href=\"https://colab.research.google.com/github/Fer-mntya/MatAplicadas/blob/main/MontoyaFernando_A00410488.ipynb\" target=\"_parent\"><img src=\"https://colab.research.google.com/assets/colab-badge.svg\" alt=\"Open In Colab\"/></a>"
      ]
    },
    {
      "cell_type": "markdown",
      "source": [
        "#Autobiografía\n",
        "Soy Juan Fernando Montoya Botina. Nací en Cali y siempre he vivido aquí. Estudio **Ingeniería Bioquímica** ya que me apasionan la investigación, los nuevos descubrimientos y las ciencias prácticas. Como hobby principal tengo la música, sé tocar guitarra acústica y eléctrica, bajo eléctrico, y estoy aprendiendo piano. Me gusta todo tipo de música, aunque mucho más en inglés, como el Rock Pop o el Nu Metal. También escribo, de todo realmente, canciones, poesía, cuentos cortos y ahora estoy intentando escribir una novela.\n",
        "\n",
        "\n",
        "#Canciones favoritas\n",
        "1. Noise\n",
        ">* *The Neighbourhood*\n",
        ">>* *Jesse Rutherford, Jon Bates & Lars Stalfors*\n",
        "\n",
        "2. Merry Christmas, Please Don't Call\n",
        ">* *Bleachers*\n",
        ">>* *Jack Antonoff*\n",
        "\n",
        "3. Digital bath\n",
        ">* *Deftones*\n",
        ">>* *Chi Cheng & Chino Moreno*\n",
        "\n",
        "4. Vida ingrata\n",
        ">* *El Cuarteto de Nos*\n",
        ">>* *Roberto Musso*\n",
        "\n",
        "5. Exit Music (For A Film)\n",
        ">* *Radiohead*\n",
        ">>* *Thom Yorke & Jonny Greenwood*\n",
        "\n",
        "\n",
        "#Materias favoritas\n",
        "|Materia         |¿Por qué?                            |\n",
        "|----------------|-------------------------------------|\n",
        "|Aplicadas       |Me interesan los lenguajes de código |\n",
        "|Lógica          |Me fue muy bien en el semestre pasado|\n",
        "|Química orgánica|Me encanta esta parte de la química  |"
      ],
      "metadata": {
        "id": "flTWaBGKI_r3"
      }
    }
  ]
}
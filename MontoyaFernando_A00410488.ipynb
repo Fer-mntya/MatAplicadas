{
  "nbformat": 4,
  "nbformat_minor": 0,
  "metadata": {
    "colab": {
      "provenance": [],
      "authorship_tag": "ABX9TyOuKTBgqpUM+a5qLj9gwmDt",
      "include_colab_link": true
    },
    "kernelspec": {
      "name": "python3",
      "display_name": "Python 3"
    },
    "language_info": {
      "name": "python"
    }
  },
  "cells": [
    {
      "cell_type": "markdown",
      "metadata": {
        "id": "view-in-github",
        "colab_type": "text"
      },
      "source": [
        "<a href=\"https://colab.research.google.com/github/Fer-mntya/MatAplicadas/blob/main/MontoyaFernando_A00410488.ipynb\" target=\"_parent\"><img src=\"https://colab.research.google.com/assets/colab-badge.svg\" alt=\"Open In Colab\"/></a>"
      ]
    },
    {
      "cell_type": "markdown",
      "source": [
        "#Autobiografía\n",
        "Soy Juan Fernando Montoya Botina. Nací en Cali y siempre he vivido aquí. Estudio Ingeniería Bioquímica ya que me apasionan la investigación, los nuevos descubrimientos y las ciencias prácticas. Como hobby principal tengo la música, sé tocar guitarra acústica y eléctrica, y estoy aprendiendo piano. También escribo, de todo realmente, canciones, poesía y ahora estoy intentando una novela.\n",
        "\n",
        "\n",
        "#Canciones favoritas\n",
        "1. Dust\n",
        ">* *The Neighbourhood*\n",
        ">>* *Brandon Fried*\n",
        "\n",
        "2. Merry Christmas, Please Don't Call\n",
        ">* *Bleachers*\n",
        ">>* *Jack Antonoff*\n",
        "\n",
        "3. Digital bath\n",
        ">* *Deftones*\n",
        ">>* *Chi Cheng & Chino Moreno*\n",
        "\n",
        "4. Vida ingrata\n",
        ">* *El Cuarteto de Nos*\n",
        ">>* *Roberto Musso*\n",
        "\n",
        "5. Exit Music (For A Film)\n",
        ">* *Radiohead*\n",
        ">>* *Thom Yorke*\n",
        "\n",
        "\n",
        "#Materias favoritas\n",
        "|Materia         |¿Por qué?\n",
        "|----------------|-----------------\n",
        "|Aplicadas       |Me interesa la codificación|\n",
        "|Lógica          |Me fue muy bien en el semestre pasado\n",
        "|Química orgánica|Me encanta este estudio de la química|"
      ],
      "metadata": {
        "id": "flTWaBGKI_r3"
      }
    }
  ]
}